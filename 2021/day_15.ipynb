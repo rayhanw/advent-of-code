{
 "cells": [
  {
   "cell_type": "code",
   "execution_count": 66,
   "id": "ea5714df",
   "metadata": {},
   "outputs": [],
   "source": [
    "import numpy as np"
   ]
  },
  {
   "cell_type": "code",
   "execution_count": 67,
   "id": "c5d6a778",
   "metadata": {},
   "outputs": [],
   "source": [
    "f = open(\"day_15.txt\", \"r\")"
   ]
  },
  {
   "cell_type": "code",
   "execution_count": 68,
   "id": "11cec226",
   "metadata": {},
   "outputs": [],
   "source": [
    "lines = f.read().splitlines()"
   ]
  },
  {
   "cell_type": "code",
   "execution_count": 69,
   "id": "aa005490",
   "metadata": {},
   "outputs": [],
   "source": [
    "def numbers(line):\n",
    "    return [int(char) for char in line]"
   ]
  },
  {
   "cell_type": "code",
   "execution_count": 70,
   "id": "d276339c",
   "metadata": {},
   "outputs": [],
   "source": [
    "numbers_mapped = map(numbers, lines)"
   ]
  },
  {
   "cell_type": "code",
   "execution_count": 71,
   "id": "c15c04a2",
   "metadata": {},
   "outputs": [],
   "source": [
    "grid = list(numbers_mapped)"
   ]
  },
  {
   "cell_type": "code",
   "execution_count": 72,
   "id": "d3d54824",
   "metadata": {},
   "outputs": [
    {
     "name": "stdout",
     "output_type": "stream",
     "text": [
      "[[1 1 6 3 7 5 1 7 4 2]\n",
      " [1 3 8 1 3 7 3 6 7 2]\n",
      " [2 1 3 6 5 1 1 3 2 8]\n",
      " [3 6 9 4 9 3 1 5 6 9]\n",
      " [7 4 6 3 4 1 7 1 1 1]\n",
      " [1 3 1 9 1 2 8 1 3 7]\n",
      " [1 3 5 9 9 1 2 4 2 1]\n",
      " [3 1 2 5 4 2 1 6 3 9]\n",
      " [1 2 9 3 1 3 8 5 2 1]\n",
      " [2 3 1 1 9 4 4 5 8 1]]\n"
     ]
    }
   ],
   "source": [
    "print(np.matrix(grid))"
   ]
  },
  {
   "cell_type": "code",
   "execution_count": null,
   "id": "7404057e",
   "metadata": {},
   "outputs": [],
   "source": []
  }
 ],
 "metadata": {
  "kernelspec": {
   "display_name": "Python 3 (ipykernel)",
   "language": "python",
   "name": "python3"
  },
  "language_info": {
   "codemirror_mode": {
    "name": "ipython",
    "version": 3
   },
   "file_extension": ".py",
   "mimetype": "text/x-python",
   "name": "python",
   "nbconvert_exporter": "python",
   "pygments_lexer": "ipython3",
   "version": "3.9.7"
  },
  "toc": {
   "base_numbering": 1,
   "nav_menu": {},
   "number_sections": true,
   "sideBar": true,
   "skip_h1_title": false,
   "title_cell": "Table of Contents",
   "title_sidebar": "Contents",
   "toc_cell": false,
   "toc_position": {},
   "toc_section_display": true,
   "toc_window_display": false
  }
 },
 "nbformat": 4,
 "nbformat_minor": 5
}
